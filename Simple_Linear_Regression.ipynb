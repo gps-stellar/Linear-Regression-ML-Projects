{
 "cells": [
  {
   "cell_type": "markdown",
   "id": "f1b649f1-929b-4401-ba39-e843cb1f4f24",
   "metadata": {},
   "source": [
    "# Simple Linear Regression Project Lab\n",
    "\n",
    "## Ice-Cream Sales Prediction\n",
    "\n",
    "### Giovanni Paz-Siva"
   ]
  },
  {
   "metadata": {},
   "cell_type": "markdown",
   "source": [
    "# Objectives\n",
    "\n",
    "* Use scikit-learn to implement simple linear regression\n",
    "* Create, train, test, and regulate a linear regression model on real data\n",
    "* Describe each step with clarity to show good understanding on the material"
   ],
   "id": "dc4978870d449b7"
  },
  {
   "metadata": {},
   "cell_type": "markdown",
   "source": [
    "# Import needed packages\n",
    "\n",
    "* NumPy\n",
    "* Matplotlib\n",
    "* Pandas\n",
    "* Scikit-learn"
   ],
   "id": "dedee64d42c1f6d4"
  },
  {
   "metadata": {
    "ExecuteTime": {
     "end_time": "2025-06-23T02:27:41.183167Z",
     "start_time": "2025-06-23T02:27:30.797936Z"
    }
   },
   "cell_type": "code",
   "source": [
    "%pip install numpy\n",
    "%pip install pandas\n",
    "%pip install matplotlib\n",
    "%pip install scikit-learn"
   ],
   "id": "e74b8123f6c5e2cd",
   "outputs": [
    {
     "name": "stdout",
     "output_type": "stream",
     "text": [
      "Requirement already satisfied: numpy in c:\\users\\giopa\\miniconda3\\lib\\site-packages (2.3.0)\n",
      "Note: you may need to restart the kernel to use updated packages.\n",
      "Requirement already satisfied: pandas in c:\\users\\giopa\\miniconda3\\lib\\site-packages (2.3.0)\n",
      "Requirement already satisfied: numpy>=1.26.0 in c:\\users\\giopa\\miniconda3\\lib\\site-packages (from pandas) (2.3.0)\n",
      "Requirement already satisfied: python-dateutil>=2.8.2 in c:\\users\\giopa\\miniconda3\\lib\\site-packages (from pandas) (2.9.0.post0)\n",
      "Requirement already satisfied: pytz>=2020.1 in c:\\users\\giopa\\miniconda3\\lib\\site-packages (from pandas) (2025.2)\n",
      "Requirement already satisfied: tzdata>=2022.7 in c:\\users\\giopa\\miniconda3\\lib\\site-packages (from pandas) (2025.2)\n",
      "Requirement already satisfied: six>=1.5 in c:\\users\\giopa\\miniconda3\\lib\\site-packages (from python-dateutil>=2.8.2->pandas) (1.17.0)\n",
      "Note: you may need to restart the kernel to use updated packages.\n",
      "Requirement already satisfied: matplotlib in c:\\users\\giopa\\miniconda3\\lib\\site-packages (3.10.3)\n",
      "Requirement already satisfied: contourpy>=1.0.1 in c:\\users\\giopa\\miniconda3\\lib\\site-packages (from matplotlib) (1.3.2)\n",
      "Requirement already satisfied: cycler>=0.10 in c:\\users\\giopa\\miniconda3\\lib\\site-packages (from matplotlib) (0.12.1)\n",
      "Requirement already satisfied: fonttools>=4.22.0 in c:\\users\\giopa\\miniconda3\\lib\\site-packages (from matplotlib) (4.58.4)\n",
      "Requirement already satisfied: kiwisolver>=1.3.1 in c:\\users\\giopa\\miniconda3\\lib\\site-packages (from matplotlib) (1.4.8)\n",
      "Requirement already satisfied: numpy>=1.23 in c:\\users\\giopa\\miniconda3\\lib\\site-packages (from matplotlib) (2.3.0)\n",
      "Requirement already satisfied: packaging>=20.0 in c:\\users\\giopa\\miniconda3\\lib\\site-packages (from matplotlib) (24.1)\n",
      "Requirement already satisfied: pillow>=8 in c:\\users\\giopa\\miniconda3\\lib\\site-packages (from matplotlib) (11.2.1)\n",
      "Requirement already satisfied: pyparsing>=2.3.1 in c:\\users\\giopa\\miniconda3\\lib\\site-packages (from matplotlib) (3.2.3)\n",
      "Requirement already satisfied: python-dateutil>=2.7 in c:\\users\\giopa\\miniconda3\\lib\\site-packages (from matplotlib) (2.9.0.post0)\n",
      "Requirement already satisfied: six>=1.5 in c:\\users\\giopa\\miniconda3\\lib\\site-packages (from python-dateutil>=2.7->matplotlib) (1.17.0)\n",
      "Note: you may need to restart the kernel to use updated packages.\n",
      "Requirement already satisfied: scikit-learn in c:\\users\\giopa\\miniconda3\\lib\\site-packages (1.7.0)\n",
      "Requirement already satisfied: numpy>=1.22.0 in c:\\users\\giopa\\miniconda3\\lib\\site-packages (from scikit-learn) (2.3.0)\n",
      "Requirement already satisfied: scipy>=1.8.0 in c:\\users\\giopa\\miniconda3\\lib\\site-packages (from scikit-learn) (1.15.3)\n",
      "Requirement already satisfied: joblib>=1.2.0 in c:\\users\\giopa\\miniconda3\\lib\\site-packages (from scikit-learn) (1.5.1)\n",
      "Requirement already satisfied: threadpoolctl>=3.1.0 in c:\\users\\giopa\\miniconda3\\lib\\site-packages (from scikit-learn) (3.6.0)\n",
      "Note: you may need to restart the kernel to use updated packages.\n"
     ]
    }
   ],
   "execution_count": 12
  },
  {
   "metadata": {
    "ExecuteTime": {
     "end_time": "2025-06-23T06:17:01.062676Z",
     "start_time": "2025-06-23T06:17:01.045125Z"
    }
   },
   "cell_type": "code",
   "source": [
    "import numpy as np\n",
    "import pandas as pd\n",
    "import matplotlib.pyplot as plt\n",
    "from sklearn.model_selection import train_test_split\n",
    "from sklearn.linear_model import LinearRegression\n",
    "from sklearn.metrics import explained_variance_score, mean_absolute_error, mean_squared_error, r2_score, mean_absolute_percentage_error\n",
    "\n",
    "print(\"Numpy Version\",np.__version__)\n",
    "print(\"Pandas Version:\",pd.__version__)"
   ],
   "id": "e7fd8db0-699a-491b-8060-ab6bc68971b8",
   "outputs": [
    {
     "name": "stdout",
     "output_type": "stream",
     "text": [
      "Numpy Version 2.3.0\n",
      "Pandas Version: 2.3.0\n"
     ]
    }
   ],
   "execution_count": 71
  },
  {
   "metadata": {},
   "cell_type": "markdown",
   "source": [
    "## Data Loaded\n",
    "\n",
    "##### The data used in this lab is provided by Kaggle \"Ice Cream.csv\".\n",
    "##### link: \"https://www.kaggle.com/code/ddosad/ml-for-beginners-icecream-sales-prediction/input?select=Ice+Cream.csv\"\n",
    "##### The units for \"Temperature\" are in Celsius, and \"Revenue\" in USD.\n",
    "##### The temperature is measured at a particular time in a year.\n",
    "##### The revenue is from sales against the Temperature.\n",
    "##### Please note: The Data/Time is not given in the data."
   ],
   "id": "7eb2a59e8ae88e4f"
  },
  {
   "cell_type": "code",
   "id": "667ec9fb-eb55-482f-b9fe-4919f9ccd681",
   "metadata": {
    "ExecuteTime": {
     "end_time": "2025-06-23T06:17:04.498397Z",
     "start_time": "2025-06-23T06:17:04.472721Z"
    }
   },
   "source": [
    "df = pd.read_csv(\"Ice Cream.csv\")\n",
    "\n",
    "# Verifying successful load with the top 5 records\n",
    "df.head()"
   ],
   "outputs": [
    {
     "data": {
      "text/plain": [
       "   Temperature  Revenue\n",
       "0         24.6      535\n",
       "1         26.1      626\n",
       "2         27.8      661\n",
       "3         20.6      488\n",
       "4         11.6      317"
      ],
      "text/html": [
       "<div>\n",
       "<style scoped>\n",
       "    .dataframe tbody tr th:only-of-type {\n",
       "        vertical-align: middle;\n",
       "    }\n",
       "\n",
       "    .dataframe tbody tr th {\n",
       "        vertical-align: top;\n",
       "    }\n",
       "\n",
       "    .dataframe thead th {\n",
       "        text-align: right;\n",
       "    }\n",
       "</style>\n",
       "<table border=\"1\" class=\"dataframe\">\n",
       "  <thead>\n",
       "    <tr style=\"text-align: right;\">\n",
       "      <th></th>\n",
       "      <th>Temperature</th>\n",
       "      <th>Revenue</th>\n",
       "    </tr>\n",
       "  </thead>\n",
       "  <tbody>\n",
       "    <tr>\n",
       "      <th>0</th>\n",
       "      <td>24.6</td>\n",
       "      <td>535</td>\n",
       "    </tr>\n",
       "    <tr>\n",
       "      <th>1</th>\n",
       "      <td>26.1</td>\n",
       "      <td>626</td>\n",
       "    </tr>\n",
       "    <tr>\n",
       "      <th>2</th>\n",
       "      <td>27.8</td>\n",
       "      <td>661</td>\n",
       "    </tr>\n",
       "    <tr>\n",
       "      <th>3</th>\n",
       "      <td>20.6</td>\n",
       "      <td>488</td>\n",
       "    </tr>\n",
       "    <tr>\n",
       "      <th>4</th>\n",
       "      <td>11.6</td>\n",
       "      <td>317</td>\n",
       "    </tr>\n",
       "  </tbody>\n",
       "</table>\n",
       "</div>"
      ]
     },
     "execution_count": 72,
     "metadata": {},
     "output_type": "execute_result"
    }
   ],
   "execution_count": 72
  },
  {
   "metadata": {},
   "cell_type": "markdown",
   "source": [
    "## Exploration of the data\n",
    "\n",
    "#### First we observe the types of data and statistical summary of the data we have"
   ],
   "id": "c3515e7dc2591715"
  },
  {
   "cell_type": "code",
   "id": "b1e4a0f8-363d-4635-968f-320f7c0b537b",
   "metadata": {
    "ExecuteTime": {
     "end_time": "2025-06-23T06:17:07.707628Z",
     "start_time": "2025-06-23T06:17:07.668127Z"
    }
   },
   "source": [
    "df.dtypes"
   ],
   "outputs": [
    {
     "data": {
      "text/plain": [
       "Temperature    float64\n",
       "Revenue          int64\n",
       "dtype: object"
      ]
     },
     "execution_count": 73,
     "metadata": {},
     "output_type": "execute_result"
    }
   ],
   "execution_count": 73
  },
  {
   "cell_type": "code",
   "id": "5a2920e9-913f-4a2d-8631-b061e5209b53",
   "metadata": {
    "ExecuteTime": {
     "end_time": "2025-06-23T06:17:11.845158Z",
     "start_time": "2025-06-23T06:17:11.760176Z"
    }
   },
   "source": [
    "df.describe()"
   ],
   "outputs": [
    {
     "data": {
      "text/plain": [
       "       Temperature      Revenue\n",
       "count   500.000000   500.000000\n",
       "mean     22.281600   522.058000\n",
       "std       8.097597   175.410399\n",
       "min       0.000000    10.000000\n",
       "25%      17.175000   406.000000\n",
       "50%      22.400000   530.000000\n",
       "75%      27.800000   643.000000\n",
       "max      45.000000  1000.000000"
      ],
      "text/html": [
       "<div>\n",
       "<style scoped>\n",
       "    .dataframe tbody tr th:only-of-type {\n",
       "        vertical-align: middle;\n",
       "    }\n",
       "\n",
       "    .dataframe tbody tr th {\n",
       "        vertical-align: top;\n",
       "    }\n",
       "\n",
       "    .dataframe thead th {\n",
       "        text-align: right;\n",
       "    }\n",
       "</style>\n",
       "<table border=\"1\" class=\"dataframe\">\n",
       "  <thead>\n",
       "    <tr style=\"text-align: right;\">\n",
       "      <th></th>\n",
       "      <th>Temperature</th>\n",
       "      <th>Revenue</th>\n",
       "    </tr>\n",
       "  </thead>\n",
       "  <tbody>\n",
       "    <tr>\n",
       "      <th>count</th>\n",
       "      <td>500.000000</td>\n",
       "      <td>500.000000</td>\n",
       "    </tr>\n",
       "    <tr>\n",
       "      <th>mean</th>\n",
       "      <td>22.281600</td>\n",
       "      <td>522.058000</td>\n",
       "    </tr>\n",
       "    <tr>\n",
       "      <th>std</th>\n",
       "      <td>8.097597</td>\n",
       "      <td>175.410399</td>\n",
       "    </tr>\n",
       "    <tr>\n",
       "      <th>min</th>\n",
       "      <td>0.000000</td>\n",
       "      <td>10.000000</td>\n",
       "    </tr>\n",
       "    <tr>\n",
       "      <th>25%</th>\n",
       "      <td>17.175000</td>\n",
       "      <td>406.000000</td>\n",
       "    </tr>\n",
       "    <tr>\n",
       "      <th>50%</th>\n",
       "      <td>22.400000</td>\n",
       "      <td>530.000000</td>\n",
       "    </tr>\n",
       "    <tr>\n",
       "      <th>75%</th>\n",
       "      <td>27.800000</td>\n",
       "      <td>643.000000</td>\n",
       "    </tr>\n",
       "    <tr>\n",
       "      <th>max</th>\n",
       "      <td>45.000000</td>\n",
       "      <td>1000.000000</td>\n",
       "    </tr>\n",
       "  </tbody>\n",
       "</table>\n",
       "</div>"
      ]
     },
     "execution_count": 74,
     "metadata": {},
     "output_type": "execute_result"
    }
   ],
   "execution_count": 74
  },
  {
   "metadata": {},
   "cell_type": "markdown",
   "source": [
    "## Visualize features\n",
    "\n",
    "#### Consider the histograms  for Temperature and Revenue"
   ],
   "id": "a2980083dbd88980"
  },
  {
   "cell_type": "code",
   "id": "96590625-73e4-4c80-9322-6c76ebe324c6",
   "metadata": {
    "ExecuteTime": {
     "end_time": "2025-06-23T06:17:15.132240Z",
     "start_time": "2025-06-23T06:17:14.875570Z"
    }
   },
   "source": [
    "viz = df[[\"Temperature\",\"Revenue\"]]\n",
    "viz.hist()\n",
    "plt.show()"
   ],
   "outputs": [
    {
     "data": {
      "text/plain": [
       "<Figure size 640x480 with 2 Axes>"
      ],
      "image/png": "[encoded data removed]"
     },
     "metadata": {},
     "output_type": "display_data"
    }
   ],
   "execution_count": 75
  },
  {
   "metadata": {},
   "cell_type": "markdown",
   "source": [
    "##### Since we only have two variables to compare, we can only observe that both histograms have similar distributions and possibly share a relationship.\n",
    "\n",
    "##### Now we are going to display some scatter plots of these features to se how linear their relationship is."
   ],
   "id": "61cdbf096bbe145a"
  },
  {
   "cell_type": "code",
   "id": "51513bf6-834e-4318-9257-46953a0070b9",
   "metadata": {
    "ExecuteTime": {
     "end_time": "2025-06-23T06:17:23.255659Z",
     "start_time": "2025-06-23T06:17:23.149423Z"
    }
   },
   "source": [
    "X = df[\"Revenue\"]\n",
    "y = df[\"Temperature\"]\n",
    "plt.scatter(X,y, color=\"blue\")\n",
    "plt.title(\"Revenue vs Temperature\")\n",
    "plt.xlabel(\"Revenue\")\n",
    "plt.ylabel(\"Temperature (Celsius)\")\n",
    "plt.show()"
   ],
   "outputs": [
    {
     "data": {
      "text/plain": [
       "<Figure size 640x480 with 1 Axes>"
      ],
      "image/png": "[encoded data removed]"
     },
     "metadata": {},
     "output_type": "display_data"
    }
   ],
   "execution_count": 76
  },
  {
   "metadata": {},
   "cell_type": "markdown",
   "source": "##### This shows us a strong linear relationship between Temperature and IceCream Revenue.",
   "id": "bc501cde2d6a44dd"
  },
  {
   "metadata": {},
   "cell_type": "markdown",
   "source": [
    "## Start the process to build a simple linear regression model\n",
    "\n",
    "* Extract the input feature and labels from the dataset\n",
    "* Define a function to display evaluation metrics\n",
    "* Create train and test datasets\n",
    "* Fit the simple linear model and make predictions"
   ],
   "id": "4205a90c4dd7b6b7"
  },
  {
   "cell_type": "code",
   "id": "e9c0bcd6-c29b-47bb-8326-6b6b8076ab40",
   "metadata": {
    "ExecuteTime": {
     "end_time": "2025-06-23T06:17:31.029349Z",
     "start_time": "2025-06-23T06:17:31.023047Z"
    }
   },
   "source": [
    "X = X.to_numpy()\n",
    "y = y.to_numpy()"
   ],
   "outputs": [],
   "execution_count": 77
  },
  {
   "metadata": {
    "ExecuteTime": {
     "end_time": "2025-06-23T06:17:34.160273Z",
     "start_time": "2025-06-23T06:17:34.152506Z"
    }
   },
   "cell_type": "code",
   "source": [
    "def regression_results(y_true, y_pred, regr_type):\n",
    "\n",
    "    #Regression metrics\n",
    "    ev = explained_variance_score(y_true, y_pred)\n",
    "    mae = mean_absolute_error(y_true, y_pred)\n",
    "    mape = mean_squared_error(y_true, y_pred)\n",
    "    mse = mean_squared_error(y_true, y_pred)\n",
    "    r2 = r2_score(y_true, y_pred)\n",
    "\n",
    "    print(f\"Evaluation metrics for {regr_type} :\")\n",
    "    print(f\"Explained Variance: {round(ev,3)}\")\n",
    "    print(f\"Mean Absolute Error: {round(mae,3)}\")\n",
    "    print(f\"Mean Absolute Percentage Error: {round(mape,3)}\")\n",
    "    print(f\"Mean Squared Error: {round(mse,3)}\")\n",
    "    print(f\"R2 Score: {round(r2,3)}\")\n",
    "    print(f\"RMSE: {round(np.sqrt(mse),3)}\")\n",
    "    print()"
   ],
   "id": "9f453c109ca6a1b1",
   "outputs": [],
   "execution_count": 78
  },
  {
   "cell_type": "code",
   "id": "d907c84e-d007-44c9-9b30-2f166802d1da",
   "metadata": {
    "ExecuteTime": {
     "end_time": "2025-06-23T06:17:37.155461Z",
     "start_time": "2025-06-23T06:17:37.142821Z"
    }
   },
   "source": [
    "from sklearn.model_selection import train_test_split\n",
    "X_train, X_test, y_train, y_test = train_test_split(X, y, test_size=0.3, random_state=42)"
   ],
   "outputs": [],
   "execution_count": 79
  },
  {
   "metadata": {
    "ExecuteTime": {
     "end_time": "2025-06-23T06:30:14.710747Z",
     "start_time": "2025-06-23T06:30:14.696822Z"
    }
   },
   "cell_type": "code",
   "source": [
    "# Fit of simple linear regression model\n",
    "lin_regr = LinearRegression()\n",
    "lin_regr.fit(X_train.reshape(-1,1), y_train)\n",
    "y_pred_linear = lin_regr.predict(X_test.reshape(-1,1))\n",
    "print(\"Coefficients: \\n\", lin_regr.coef_)\n",
    "print(\"Intercept: \\n\", lin_regr.intercept_)"
   ],
   "id": "23266f9f8622bde0",
   "outputs": [
    {
     "name": "stdout",
     "output_type": "stream",
     "text": [
      "Coefficients: \n",
      " [0.04573302]\n",
      "Intercept: \n",
      " -1.6129456501482586\n"
     ]
    }
   ],
   "execution_count": 88
  },
  {
   "metadata": {
    "ExecuteTime": {
     "end_time": "2025-06-23T06:17:53.584685Z",
     "start_time": "2025-06-23T06:17:53.573338Z"
    }
   },
   "cell_type": "code",
   "source": [
    "# Regression Results\n",
    "regression_results(y_test, y_pred_linear, \"Linear Regression\")\n"
   ],
   "id": "13fc1c0890dea1a2",
   "outputs": [
    {
     "name": "stdout",
     "output_type": "stream",
     "text": [
      "Evaluation metrics for Linear Regression :\n",
      "Explained Variance: 0.98\n",
      "Mean Absolute Error: 0.865\n",
      "Mean Absolute Percentage Error: 1.255\n",
      "Mean Squared Error: 1.255\n",
      "R2 Score: 0.98\n",
      "RMSE: 1.12\n",
      "\n"
     ]
    }
   ],
   "execution_count": 81
  },
  {
   "metadata": {},
   "cell_type": "markdown",
   "source": [
    "## Plot the data and the predictions for comparison\n",
    "##### Let's see how well the predictions match the data"
   ],
   "id": "9091dcdfdd88c69f"
  },
  {
   "metadata": {
    "ExecuteTime": {
     "end_time": "2025-06-23T06:32:30.220753Z",
     "start_time": "2025-06-23T06:32:30.101622Z"
    }
   },
   "cell_type": "code",
   "source": [
    "plt.scatter(X_train,y_train, color=\"blue\")\n",
    "plt.plot(X_train, lin_regr.coef_ * X_train + lin_regr.intercept_, color=\"red\")\n",
    "plt.title(\"Simple Linear Regression fit Line (Training set)\")\n",
    "plt.xlabel(\"Revenue\")\n",
    "plt.ylabel(\"Temperature (Celsius)\")\n",
    "plt.show()"
   ],
   "id": "d23bc11f030f039d",
   "outputs": [
    {
     "data": {
      "text/plain": [
       "<Figure size 640x480 with 1 Axes>"
      ],
      "image/png": "[encoded data removed]"
     },
     "metadata": {},
     "output_type": "display_data"
    }
   ],
   "execution_count": 90
  },
  {
   "metadata": {
    "ExecuteTime": {
     "end_time": "2025-06-23T06:07:38.256610Z",
     "start_time": "2025-06-23T06:07:38.147278Z"
    }
   },
   "cell_type": "code",
   "source": [
    "plt.scatter(X_test,y_test, color=\"blue\")\n",
    "plt.plot(X_test, lin_regr.coef_ * X_test + lin_regr.intercept_, color=\"red\")\n",
    "plt.title(\"Simple Linear Regression fit Line (Test set)\")\n",
    "plt.xlabel(\"Revenue\")\n",
    "plt.ylabel(\"Temperature (Celsius)\")\n",
    "plt.show()"
   ],
   "id": "50ecf415075c85b5",
   "outputs": [
    {
     "data": {
      "text/plain": [
       "<Figure size 640x480 with 1 Axes>"
      ],
      "image/png": "[encoded data removed]"
     },
     "metadata": {},
     "output_type": "display_data"
    }
   ],
   "execution_count": 70
  },
  {
   "metadata": {},
   "cell_type": "markdown",
   "source": [
    "## Model Interpretation\n",
    "\n",
    "##### Linear Equation for the prediction: y = 0.046 * X - 1.61 ,  Therefore\n",
    "##### X[Revenue] = 21.74 * y[Temperature] + 35\n",
    "\n",
    "### Interpretation\n",
    "\n",
    "#### For each unit increase in temperature, the expected revenue rises by approximately 21.74 units. When the temperature is zero, the predicted revenue is 35 units."
   ],
   "id": "6c3a50033b684e26"
  },
  {
   "metadata": {},
   "cell_type": "markdown",
   "source": "## Lets build a Revenue prediction code in base on our model interpretation",
   "id": "f4608beb2b5d4df5"
  },
  {
   "metadata": {
    "ExecuteTime": {
     "end_time": "2025-06-23T06:52:39.988986Z",
     "start_time": "2025-06-23T06:52:35.397571Z"
    }
   },
   "cell_type": "code",
   "source": [
    "Temperature = float(input(\"Enter the temperature in Celsius:\"))\n",
    "Revenue = (21.74*Temperature) + 35\n",
    "print(f\"Ice-Cream Sales Revenue when the Temperature is {Tempperature} Celsius = {round(Revenue,2)} \")"
   ],
   "id": "b5e91e6ff4b2a7c2",
   "outputs": [
    {
     "name": "stdout",
     "output_type": "stream",
     "text": [
      "Ice-Cream Sales Revenue when the Temperature is 35.0 Celsius = 904.6 \n"
     ]
    }
   ],
   "execution_count": 92
  }
 ],
 "metadata": {
  "kernelspec": {
   "display_name": "Python 3 (ipykernel)",
   "language": "python",
   "name": "python3"
  },
  "language_info": {
   "codemirror_mode": {
    "name": "ipython",
    "version": 3
   },
   "file_extension": ".py",
   "mimetype": "text/x-python",
   "name": "python",
   "nbconvert_exporter": "python",
   "pygments_lexer": "ipython3",
   "version": "3.12.7"
  }
 },
 "nbformat": 4,
 "nbformat_minor": 5
}
