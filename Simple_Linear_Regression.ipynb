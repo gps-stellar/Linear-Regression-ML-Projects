{
 "cells": [
  {
   "cell_type": "markdown",
   "id": "f1b649f1-929b-4401-ba39-e843cb1f4f24",
   "metadata": {},
   "source": [
    "# Simple Linear Regression Project Lab\n",
    "\n",
    "### Giovanni Paz-Siva"
   ]
  },
  {
   "metadata": {
    "ExecuteTime": {
     "end_time": "2025-06-15T08:27:08.972294Z",
     "start_time": "2025-06-15T08:26:59.884531Z"
    }
   },
   "cell_type": "code",
   "source": [
    "%pip install numpy\n",
    "%pip install pandas\n",
    "%pip install matplotlib\n",
    "%pip install scikit-learn"
   ],
   "id": "e74b8123f6c5e2cd",
   "outputs": [
    {
     "name": "stdout",
     "output_type": "stream",
     "text": [
      "Requirement already satisfied: numpy in c:\\users\\giopa\\miniconda3\\lib\\site-packages (2.3.0)\n",
      "Note: you may need to restart the kernel to use updated packages.\n",
      "Requirement already satisfied: pandas in c:\\users\\giopa\\miniconda3\\lib\\site-packages (2.3.0)\n",
      "Requirement already satisfied: numpy>=1.26.0 in c:\\users\\giopa\\miniconda3\\lib\\site-packages (from pandas) (2.3.0)\n",
      "Requirement already satisfied: python-dateutil>=2.8.2 in c:\\users\\giopa\\miniconda3\\lib\\site-packages (from pandas) (2.9.0.post0)\n",
      "Requirement already satisfied: pytz>=2020.1 in c:\\users\\giopa\\miniconda3\\lib\\site-packages (from pandas) (2025.2)\n",
      "Requirement already satisfied: tzdata>=2022.7 in c:\\users\\giopa\\miniconda3\\lib\\site-packages (from pandas) (2025.2)\n",
      "Requirement already satisfied: six>=1.5 in c:\\users\\giopa\\miniconda3\\lib\\site-packages (from python-dateutil>=2.8.2->pandas) (1.17.0)\n",
      "Note: you may need to restart the kernel to use updated packages.\n",
      "Requirement already satisfied: matplotlib in c:\\users\\giopa\\miniconda3\\lib\\site-packages (3.10.3)\n",
      "Requirement already satisfied: contourpy>=1.0.1 in c:\\users\\giopa\\miniconda3\\lib\\site-packages (from matplotlib) (1.3.2)\n",
      "Requirement already satisfied: cycler>=0.10 in c:\\users\\giopa\\miniconda3\\lib\\site-packages (from matplotlib) (0.12.1)\n",
      "Requirement already satisfied: fonttools>=4.22.0 in c:\\users\\giopa\\miniconda3\\lib\\site-packages (from matplotlib) (4.58.4)\n",
      "Requirement already satisfied: kiwisolver>=1.3.1 in c:\\users\\giopa\\miniconda3\\lib\\site-packages (from matplotlib) (1.4.8)\n",
      "Requirement already satisfied: numpy>=1.23 in c:\\users\\giopa\\miniconda3\\lib\\site-packages (from matplotlib) (2.3.0)\n",
      "Requirement already satisfied: packaging>=20.0 in c:\\users\\giopa\\miniconda3\\lib\\site-packages (from matplotlib) (24.1)\n",
      "Requirement already satisfied: pillow>=8 in c:\\users\\giopa\\miniconda3\\lib\\site-packages (from matplotlib) (11.2.1)\n",
      "Requirement already satisfied: pyparsing>=2.3.1 in c:\\users\\giopa\\miniconda3\\lib\\site-packages (from matplotlib) (3.2.3)\n",
      "Requirement already satisfied: python-dateutil>=2.7 in c:\\users\\giopa\\miniconda3\\lib\\site-packages (from matplotlib) (2.9.0.post0)\n",
      "Requirement already satisfied: six>=1.5 in c:\\users\\giopa\\miniconda3\\lib\\site-packages (from python-dateutil>=2.7->matplotlib) (1.17.0)\n",
      "Note: you may need to restart the kernel to use updated packages.\n",
      "Requirement already satisfied: scikit-learn in c:\\users\\giopa\\miniconda3\\lib\\site-packages (1.7.0)\n",
      "Requirement already satisfied: numpy>=1.22.0 in c:\\users\\giopa\\miniconda3\\lib\\site-packages (from scikit-learn) (2.3.0)\n",
      "Requirement already satisfied: scipy>=1.8.0 in c:\\users\\giopa\\miniconda3\\lib\\site-packages (from scikit-learn) (1.15.3)\n",
      "Requirement already satisfied: joblib>=1.2.0 in c:\\users\\giopa\\miniconda3\\lib\\site-packages (from scikit-learn) (1.5.1)\n",
      "Requirement already satisfied: threadpoolctl>=3.1.0 in c:\\users\\giopa\\miniconda3\\lib\\site-packages (from scikit-learn) (3.6.0)\n",
      "Note: you may need to restart the kernel to use updated packages.\n"
     ]
    }
   ],
   "execution_count": 1
  },
  {
   "metadata": {
    "ExecuteTime": {
     "end_time": "2025-06-15T08:27:14.983978Z",
     "start_time": "2025-06-15T08:27:13.737384Z"
    }
   },
   "cell_type": "code",
   "source": [
    "import numpy as np\n",
    "import pandas as pd\n",
    "import matplotlib.pyplot as plt\n",
    "print(\"Numpy Version\",np.__version__)\n",
    "print(\"Pandas Version:\",pd.__version__)"
   ],
   "id": "e7fd8db0-699a-491b-8060-ab6bc68971b8",
   "outputs": [
    {
     "name": "stdout",
     "output_type": "stream",
     "text": [
      "Numpy Version 2.3.0\n",
      "Pandas Version: 2.3.0\n"
     ]
    }
   ],
   "execution_count": 2
  },
  {
   "cell_type": "code",
   "id": "667ec9fb-eb55-482f-b9fe-4919f9ccd681",
   "metadata": {
    "ExecuteTime": {
     "end_time": "2025-06-15T08:27:18.951512Z",
     "start_time": "2025-06-15T08:27:18.900145Z"
    }
   },
   "source": [
    "df = pd.read_csv(\"Ice Cream.csv\")\n",
    "df.head()"
   ],
   "outputs": [
    {
     "data": {
      "text/plain": [
       "   Temperature  Revenue\n",
       "0         24.6      535\n",
       "1         26.1      626\n",
       "2         27.8      661\n",
       "3         20.6      488\n",
       "4         11.6      317"
      ],
      "text/html": [
       "<div>\n",
       "<style scoped>\n",
       "    .dataframe tbody tr th:only-of-type {\n",
       "        vertical-align: middle;\n",
       "    }\n",
       "\n",
       "    .dataframe tbody tr th {\n",
       "        vertical-align: top;\n",
       "    }\n",
       "\n",
       "    .dataframe thead th {\n",
       "        text-align: right;\n",
       "    }\n",
       "</style>\n",
       "<table border=\"1\" class=\"dataframe\">\n",
       "  <thead>\n",
       "    <tr style=\"text-align: right;\">\n",
       "      <th></th>\n",
       "      <th>Temperature</th>\n",
       "      <th>Revenue</th>\n",
       "    </tr>\n",
       "  </thead>\n",
       "  <tbody>\n",
       "    <tr>\n",
       "      <th>0</th>\n",
       "      <td>24.6</td>\n",
       "      <td>535</td>\n",
       "    </tr>\n",
       "    <tr>\n",
       "      <th>1</th>\n",
       "      <td>26.1</td>\n",
       "      <td>626</td>\n",
       "    </tr>\n",
       "    <tr>\n",
       "      <th>2</th>\n",
       "      <td>27.8</td>\n",
       "      <td>661</td>\n",
       "    </tr>\n",
       "    <tr>\n",
       "      <th>3</th>\n",
       "      <td>20.6</td>\n",
       "      <td>488</td>\n",
       "    </tr>\n",
       "    <tr>\n",
       "      <th>4</th>\n",
       "      <td>11.6</td>\n",
       "      <td>317</td>\n",
       "    </tr>\n",
       "  </tbody>\n",
       "</table>\n",
       "</div>"
      ]
     },
     "execution_count": 3,
     "metadata": {},
     "output_type": "execute_result"
    }
   ],
   "execution_count": 3
  },
  {
   "cell_type": "code",
   "id": "b1e4a0f8-363d-4635-968f-320f7c0b537b",
   "metadata": {
    "ExecuteTime": {
     "end_time": "2025-06-15T08:27:35.417535Z",
     "start_time": "2025-06-15T08:27:35.402692Z"
    }
   },
   "source": [
    "df.dtypes"
   ],
   "outputs": [
    {
     "data": {
      "text/plain": [
       "Temperature    float64\n",
       "Revenue          int64\n",
       "dtype: object"
      ]
     },
     "execution_count": 4,
     "metadata": {},
     "output_type": "execute_result"
    }
   ],
   "execution_count": 4
  },
  {
   "cell_type": "code",
   "id": "5a2920e9-913f-4a2d-8631-b061e5209b53",
   "metadata": {
    "ExecuteTime": {
     "end_time": "2025-06-15T08:27:39.663163Z",
     "start_time": "2025-06-15T08:27:39.636417Z"
    }
   },
   "source": [
    "df.describe()"
   ],
   "outputs": [
    {
     "data": {
      "text/plain": [
       "       Temperature      Revenue\n",
       "count   500.000000   500.000000\n",
       "mean     22.281600   522.058000\n",
       "std       8.097597   175.410399\n",
       "min       0.000000    10.000000\n",
       "25%      17.175000   406.000000\n",
       "50%      22.400000   530.000000\n",
       "75%      27.800000   643.000000\n",
       "max      45.000000  1000.000000"
      ],
      "text/html": [
       "<div>\n",
       "<style scoped>\n",
       "    .dataframe tbody tr th:only-of-type {\n",
       "        vertical-align: middle;\n",
       "    }\n",
       "\n",
       "    .dataframe tbody tr th {\n",
       "        vertical-align: top;\n",
       "    }\n",
       "\n",
       "    .dataframe thead th {\n",
       "        text-align: right;\n",
       "    }\n",
       "</style>\n",
       "<table border=\"1\" class=\"dataframe\">\n",
       "  <thead>\n",
       "    <tr style=\"text-align: right;\">\n",
       "      <th></th>\n",
       "      <th>Temperature</th>\n",
       "      <th>Revenue</th>\n",
       "    </tr>\n",
       "  </thead>\n",
       "  <tbody>\n",
       "    <tr>\n",
       "      <th>count</th>\n",
       "      <td>500.000000</td>\n",
       "      <td>500.000000</td>\n",
       "    </tr>\n",
       "    <tr>\n",
       "      <th>mean</th>\n",
       "      <td>22.281600</td>\n",
       "      <td>522.058000</td>\n",
       "    </tr>\n",
       "    <tr>\n",
       "      <th>std</th>\n",
       "      <td>8.097597</td>\n",
       "      <td>175.410399</td>\n",
       "    </tr>\n",
       "    <tr>\n",
       "      <th>min</th>\n",
       "      <td>0.000000</td>\n",
       "      <td>10.000000</td>\n",
       "    </tr>\n",
       "    <tr>\n",
       "      <th>25%</th>\n",
       "      <td>17.175000</td>\n",
       "      <td>406.000000</td>\n",
       "    </tr>\n",
       "    <tr>\n",
       "      <th>50%</th>\n",
       "      <td>22.400000</td>\n",
       "      <td>530.000000</td>\n",
       "    </tr>\n",
       "    <tr>\n",
       "      <th>75%</th>\n",
       "      <td>27.800000</td>\n",
       "      <td>643.000000</td>\n",
       "    </tr>\n",
       "    <tr>\n",
       "      <th>max</th>\n",
       "      <td>45.000000</td>\n",
       "      <td>1000.000000</td>\n",
       "    </tr>\n",
       "  </tbody>\n",
       "</table>\n",
       "</div>"
      ]
     },
     "execution_count": 5,
     "metadata": {},
     "output_type": "execute_result"
    }
   ],
   "execution_count": 5
  },
  {
   "cell_type": "code",
   "id": "96590625-73e4-4c80-9322-6c76ebe324c6",
   "metadata": {
    "ExecuteTime": {
     "end_time": "2025-06-15T08:27:50.778289Z",
     "start_time": "2025-06-15T08:27:50.492612Z"
    }
   },
   "source": [
    "viz = df[[\"Temperature\",\"Revenue\"]]\n",
    "viz.hist()\n",
    "plt.show()"
   ],
   "outputs": [
    {
     "data": {
      "text/plain": [
       "<Figure size 640x480 with 2 Axes>"
      ],
      "image/png": "[encoded data removed]"
     },
     "metadata": {},
     "output_type": "display_data"
    }
   ],
   "execution_count": 6
  },
  {
   "cell_type": "code",
   "id": "51513bf6-834e-4318-9257-46953a0070b9",
   "metadata": {
    "ExecuteTime": {
     "end_time": "2025-06-15T08:27:55.310406Z",
     "start_time": "2025-06-15T08:27:55.198499Z"
    }
   },
   "source": [
    "X = df[\"Revenue\"]\n",
    "y = df[\"Temperature\"]\n",
    "plt.scatter(X,y, color=\"blue\")\n",
    "plt.title(\"Revenue vs Temperature\")\n",
    "plt.xlabel(\"Revenue\")\n",
    "plt.ylabel(\"Temperature (Celsius)\")\n",
    "plt.show()"
   ],
   "outputs": [
    {
     "data": {
      "text/plain": [
       "<Figure size 640x480 with 1 Axes>"
      ],
      "image/png": "[encoded data removed]"
     },
     "metadata": {},
     "output_type": "display_data"
    }
   ],
   "execution_count": 7
  },
  {
   "cell_type": "code",
   "id": "e9c0bcd6-c29b-47bb-8326-6b6b8076ab40",
   "metadata": {
    "ExecuteTime": {
     "end_time": "2025-06-15T08:34:46.540415Z",
     "start_time": "2025-06-15T08:34:46.530310Z"
    }
   },
   "source": [
    "X = X.to_numpy()\n",
    "y = y.to_numpy()\n",
    "print(X,y)"
   ],
   "outputs": [
    {
     "name": "stdout",
     "output_type": "stream",
     "text": [
      "[ 535  626  661  488  317  368  309  697   56  738  326   72  468  290\n",
      "  906  470  649  922  650  535  613  354  525  375  524  474  403  680\n",
      "  518  810  529  357  238  419  810  871  551  406  741  502  540  243\n",
      "  422  359  468  397  501  652  452  698  191  622  667  629  220  624\n",
      "  750  828  304  352  382  322  775  132  499  196  497  285  484  431\n",
      "  277  628  644  624  587  654  919  592  652  683  373  382  516  686\n",
      "  655  407  644  345  643  362  705  223  544  222  338  213  475  461\n",
      "  344  284  469  712  323  402  628  416  554  363  644  652  604  428\n",
      "  566  734  386  690  573  720  307  597  541  342  656  703  320  451\n",
      "  383  675  732  752  497  418  449  478  159  517  600  657  508  280\n",
      "  842  484  740  487  457  242  619  447  604  275  532  298  320  494\n",
      "  587  498  477  626  391  676  274  281  584  649  727  336  571  686\n",
      "  776  774  541  367  540  810  377  478  521  655  519  783  251  635\n",
      "  489  521  653  384  797  294  415  692  340  472  500  543  402  681\n",
      "  259  716  609  575  616  534  579  279  187  396  538  229  604  273\n",
      "  494  613  438  507  410  563  403  533  414  333  564  473  597  597\n",
      "  269  529  628  619  851  119  279  450  449  464  475  825  554  697\n",
      "  676  696  289  507  619  368  192  335  584  539  395  474  428  748\n",
      "  213  692  633  449  522  438  707  406  504  571  707  544  642  275\n",
      "  421  146  829  595  604  652  608  626  536  531  536  782  798  522\n",
      "  608  535  600  663  513  575  551  555  497  351  410  632  662  643\n",
      "  322  413  539  858  426  199  171  600  559  551  715  527  760  442\n",
      "  757  543  455  336  576  595  622  521  588  538  640  468  375  605\n",
      "  464  551  316  224  564  490  459  966  690  679  380  509  685  599\n",
      "  417  572  772  236  580  407  537  250  703  336  808  565  857  483\n",
      "  437  217  296  595  936  649  597  499  476  385  634  660  610  200\n",
      "  556  595  573  479  564  546  445   33  507  492  560  698  799  279\n",
      "  595  876  514  441  411  257  584  279  852  323  222  820  645  284\n",
      "  277  403  301  691  193  547  666  751  570  917   10  573  659  243\n",
      "  442  703  644  819  494  444  324  970  659  478  426  650  680  506\n",
      "  474  406  429  801  446  451  618  542  655  522  604  589  635  247\n",
      "  641  382  391  655  413  265  685  460  616  699 1000  450  323  494\n",
      "  630  453  684  538  609  747  757  492  893  647  805  527  892  637\n",
      "  298  258  392  495  927  613  899  490  292  430  501  476  531  454\n",
      "  297  683  582  433  508  692  449  613  189  502  334  794  380  582\n",
      "  585  810  553  378  572  525  756  307  567  656] [24.6 26.1 27.8 20.6 11.6 14.4 13.8 30.9  1.  31.7 11.5  3.7 18.9 13.7\n",
      " 39.6 18.5 26.  42.6 29.6 21.8 25.5 15.3 22.7 16.3 23.9 19.  15.7 29.2\n",
      " 19.1 35.2 24.2 15.3  8.8 18.3 35.7 37.1 22.3 17.6 31.8 17.1 23.1  8.8\n",
      " 18.8 14.2 18.7 15.7 21.  30.7 20.5 31.3  6.4 27.2 28.7 28.  10.4 27.4\n",
      " 33.3 36.6 12.5 14.4 16.4 11.6 33.6  4.  20.6  6.6 19.9 11.7 21.5 18.8\n",
      " 12.7 27.9 27.  27.4 24.2 28.8 40.5 25.6 28.8 29.5 16.1 14.8 22.2 29.1\n",
      " 29.3 16.4 27.8 13.4 29.4 14.4 30.5  9.1 23.1  8.6 12.4  9.1 20.3 19.4\n",
      " 14.7 10.  20.  32.1 14.3 17.7 26.6 17.3 23.8 15.6 28.5 27.8 25.5 18.5\n",
      " 24.3 31.7 17.7 31.9 26.  29.4 11.1 25.5 23.  13.  28.3 30.6 12.6 19.1\n",
      " 16.  26.2 31.5 32.3 21.7 20.5 19.5 20.2  6.1 22.9 24.6 28.6 19.8 12.5\n",
      " 36.8 19.7 32.5 19.3 19.8  8.7 29.5 19.3 24.7 12.5 24.6 12.3 12.3 19.8\n",
      " 23.4 21.2 18.9 28.3 16.5 29.  10.3 11.1 25.5 28.  28.5 13.4 26.  32.9\n",
      " 32.8 32.2 24.8 15.1 23.5 35.3 16.4 20.6 21.4 27.  22.7 33.3  9.  26.9\n",
      " 21.4 22.1 29.2 16.2 35.4 11.2 16.6 30.4 13.  19.9 21.  23.6 16.6 30.7\n",
      "  9.9 31.6 25.5 25.3 26.9 21.5 24.  10.5  5.9 16.2 24.   9.8 24.  10.1\n",
      " 22.4 27.4 20.3 23.2 15.8 27.6 18.8 22.7 18.  13.2 24.9 18.7 25.9 26.3\n",
      " 13.4 21.6 27.2 27.  38.2  4.3  9.5 20.2 19.8 19.2 19.2 36.2 23.5 30.\n",
      " 32.1 29.8 11.2 23.4 27.8 15.1  6.4 14.3 25.5 24.8 16.4 18.2 18.6 32.4\n",
      "  7.6 31.5 28.4 17.7 21.8 18.5 32.5 17.4 21.1 23.6 30.8 22.7 28.9  9.7\n",
      " 18.6  5.4 35.5 24.8 24.7 28.5 25.  25.5 22.3 24.8 22.5 35.1 33.8 22.6\n",
      " 28.5 23.5 26.1 28.9 22.2 26.4 25.1 26.5 22.2 15.6 17.7 28.8 27.6 27.2\n",
      " 10.5 17.6 24.6 38.  17.   7.8  5.9 26.9 24.5 22.  30.1 21.3 32.5 17.1\n",
      " 33.4 23.5 19.  12.3 25.2 27.1 25.8 22.4 25.2 22.2 28.3 21.8 15.2 25.4\n",
      " 18.5 22.9 14.4  7.3 25.3 21.  19.8 42.  28.7 29.3 15.9 20.9 30.5 24.9\n",
      " 19.9 22.2 34.1  9.6 25.6 19.1 23.1  8.1 29.8 12.2 35.1 25.  38.2 19.\n",
      " 18.8  7.3 12.8 24.6 39.8 30.3 24.5 20.3 20.3 14.9 28.8 29.8 26.4  6.8\n",
      " 23.3 24.4 25.8 21.7 26.2 21.7 18.9  0.3 19.7 20.2 24.  29.3 34.9 11.2\n",
      " 26.2 39.9 20.5 17.9 18.4 10.  25.1 12.1 37.  14.8  7.2 38.1 27.  12.5\n",
      " 10.2 17.6 12.1 30.5  7.4 22.7 28.1 33.6 24.3 38.7  0.  24.4 26.2  5.4\n",
      " 18.  31.  29.8 32.7 21.2 18.6 14.6 41.8 27.2 20.1 20.6 27.6 30.3 21.7\n",
      " 20.1 17.3 17.2 35.5 19.2 19.  26.2 20.  27.8 21.1 25.4 24.2 27.6  8.8\n",
      " 27.6 16.  17.2 28.8 17.2  8.8 31.1 19.3 27.2 30.1 45.  19.  15.2 21.9\n",
      " 29.6 19.3 29.9 21.7 25.  31.2 34.7 21.  37.2 26.4 35.4 24.5 38.7 29.\n",
      " 12.2 11.6 17.5 20.9 40.4 26.6 39.6 22.4  9.4 19.5 22.3 18.9 21.8 18.2\n",
      " 14.9 28.9 25.4 18.6 22.5 30.1 17.  27.3  4.9 23.5 12.4 32.7 16.8 27.\n",
      " 23.9 34.5 23.1 15.  25.2 22.3 32.9 12.6 22.4 29. ]\n"
     ]
    }
   ],
   "execution_count": 9
  },
  {
   "cell_type": "code",
   "execution_count": null,
   "id": "d907c84e-d007-44c9-9b30-2f166802d1da",
   "metadata": {},
   "outputs": [],
   "source": []
  }
 ],
 "metadata": {
  "kernelspec": {
   "display_name": "Python 3 (ipykernel)",
   "language": "python",
   "name": "python3"
  },
  "language_info": {
   "codemirror_mode": {
    "name": "ipython",
    "version": 3
   },
   "file_extension": ".py",
   "mimetype": "text/x-python",
   "name": "python",
   "nbconvert_exporter": "python",
   "pygments_lexer": "ipython3",
   "version": "3.12.7"
  }
 },
 "nbformat": 4,
 "nbformat_minor": 5
}
