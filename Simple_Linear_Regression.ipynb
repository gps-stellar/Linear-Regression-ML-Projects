{
 "cells": [
  {
   "cell_type": "markdown",
   "id": "f1b649f1-929b-4401-ba39-e843cb1f4f24",
   "metadata": {},
   "source": [
    "# Simple Linear Regression Project Lab\n",
    "\n",
    "### Giovanni Paz-Siva"
   ]
  },
  {
   "cell_type": "code",
   "execution_count": 4,
   "id": "d3a12783-78a7-48d2-bedc-4bbdd16d4227",
   "metadata": {},
   "outputs": [
    {
     "name": "stdout",
     "output_type": "stream",
     "text": [
      "Collecting numpy==2.1.0\n",
      "  Downloading numpy-2.1.0-cp312-cp312-win_amd64.whl.metadata (59 kB)\n",
      "Downloading numpy-2.1.0-cp312-cp312-win_amd64.whl (12.6 MB)\n",
      "   ---------------------------------------- 0.0/12.6 MB ? eta -:--:--\n",
      "   --- ------------------------------------ 1.0/12.6 MB 7.2 MB/s eta 0:00:02\n",
      "   ---------- ----------------------------- 3.1/12.6 MB 8.0 MB/s eta 0:00:02\n",
      "   ----------------- ---------------------- 5.5/12.6 MB 9.3 MB/s eta 0:00:01\n",
      "   --------------------------- ------------ 8.7/12.6 MB 10.7 MB/s eta 0:00:01\n",
      "   ----------------------------------- ---- 11.3/12.6 MB 11.2 MB/s eta 0:00:01\n",
      "   ---------------------------------------- 12.6/12.6 MB 10.6 MB/s eta 0:00:00\n",
      "Installing collected packages: numpy\n",
      "  Attempting uninstall: numpy\n",
      "    Found existing installation: numpy 1.26.4\n",
      "    Uninstalling numpy-1.26.4:\n",
      "      Successfully uninstalled numpy-1.26.4\n",
      "Successfully installed numpy-2.1.0\n"
     ]
    },
    {
     "name": "stderr",
     "output_type": "stream",
     "text": [
      "ERROR: pip's dependency resolver does not currently take into account all the packages that are installed. This behaviour is the source of the following dependency conflicts.\n",
      "contourpy 1.2.0 requires numpy<2.0,>=1.20, but you have numpy 2.1.0 which is incompatible.\n",
      "gensim 4.3.3 requires numpy<2.0,>=1.18.5, but you have numpy 2.1.0 which is incompatible.\n",
      "numba 0.60.0 requires numpy<2.1,>=1.22, but you have numpy 2.1.0 which is incompatible.\n"
     ]
    },
    {
     "name": "stdout",
     "output_type": "stream",
     "text": [
      "Requirement already satisfied: pandas==2.2.3 in c:\\users\\giopa\\appdata\\local\\anaconda3\\lib\\site-packages (2.2.3)\n",
      "Requirement already satisfied: numpy>=1.26.0 in c:\\users\\giopa\\appdata\\local\\anaconda3\\lib\\site-packages (from pandas==2.2.3) (2.1.0)\n",
      "Requirement already satisfied: python-dateutil>=2.8.2 in c:\\users\\giopa\\appdata\\local\\anaconda3\\lib\\site-packages (from pandas==2.2.3) (2.9.0.post0)\n",
      "Requirement already satisfied: pytz>=2020.1 in c:\\users\\giopa\\appdata\\local\\anaconda3\\lib\\site-packages (from pandas==2.2.3) (2024.1)\n",
      "Requirement already satisfied: tzdata>=2022.7 in c:\\users\\giopa\\appdata\\local\\anaconda3\\lib\\site-packages (from pandas==2.2.3) (2023.3)\n",
      "Requirement already satisfied: six>=1.5 in c:\\users\\giopa\\appdata\\local\\anaconda3\\lib\\site-packages (from python-dateutil>=2.8.2->pandas==2.2.3) (1.16.0)\n",
      "Requirement already satisfied: scikit-learn==1.6.0 in c:\\users\\giopa\\appdata\\local\\anaconda3\\lib\\site-packages (1.6.0)\n",
      "Requirement already satisfied: numpy>=1.19.5 in c:\\users\\giopa\\appdata\\local\\anaconda3\\lib\\site-packages (from scikit-learn==1.6.0) (2.1.0)\n",
      "Requirement already satisfied: scipy>=1.6.0 in c:\\users\\giopa\\appdata\\local\\anaconda3\\lib\\site-packages (from scikit-learn==1.6.0) (1.13.1)\n",
      "Requirement already satisfied: joblib>=1.2.0 in c:\\users\\giopa\\appdata\\local\\anaconda3\\lib\\site-packages (from scikit-learn==1.6.0) (1.4.2)\n",
      "Requirement already satisfied: threadpoolctl>=3.1.0 in c:\\users\\giopa\\appdata\\local\\anaconda3\\lib\\site-packages (from scikit-learn==1.6.0) (3.5.0)\n",
      "Requirement already satisfied: matplotlib==3.9.3 in c:\\users\\giopa\\appdata\\local\\anaconda3\\lib\\site-packages (3.9.3)\n",
      "Requirement already satisfied: contourpy>=1.0.1 in c:\\users\\giopa\\appdata\\local\\anaconda3\\lib\\site-packages (from matplotlib==3.9.3) (1.2.0)\n",
      "Requirement already satisfied: cycler>=0.10 in c:\\users\\giopa\\appdata\\local\\anaconda3\\lib\\site-packages (from matplotlib==3.9.3) (0.11.0)\n",
      "Requirement already satisfied: fonttools>=4.22.0 in c:\\users\\giopa\\appdata\\local\\anaconda3\\lib\\site-packages (from matplotlib==3.9.3) (4.51.0)\n",
      "Requirement already satisfied: kiwisolver>=1.3.1 in c:\\users\\giopa\\appdata\\local\\anaconda3\\lib\\site-packages (from matplotlib==3.9.3) (1.4.4)\n",
      "Requirement already satisfied: numpy>=1.23 in c:\\users\\giopa\\appdata\\local\\anaconda3\\lib\\site-packages (from matplotlib==3.9.3) (2.1.0)\n",
      "Requirement already satisfied: packaging>=20.0 in c:\\users\\giopa\\appdata\\local\\anaconda3\\lib\\site-packages (from matplotlib==3.9.3) (24.1)\n",
      "Requirement already satisfied: pillow>=8 in c:\\users\\giopa\\appdata\\local\\anaconda3\\lib\\site-packages (from matplotlib==3.9.3) (10.4.0)\n",
      "Requirement already satisfied: pyparsing>=2.3.1 in c:\\users\\giopa\\appdata\\local\\anaconda3\\lib\\site-packages (from matplotlib==3.9.3) (3.1.2)\n",
      "Requirement already satisfied: python-dateutil>=2.7 in c:\\users\\giopa\\appdata\\local\\anaconda3\\lib\\site-packages (from matplotlib==3.9.3) (2.9.0.post0)\n",
      "Collecting numpy>=1.23 (from matplotlib==3.9.3)\n",
      "  Using cached numpy-1.26.4-cp312-cp312-win_amd64.whl.metadata (61 kB)\n",
      "Requirement already satisfied: six>=1.5 in c:\\users\\giopa\\appdata\\local\\anaconda3\\lib\\site-packages (from python-dateutil>=2.7->matplotlib==3.9.3) (1.16.0)\n",
      "Using cached numpy-1.26.4-cp312-cp312-win_amd64.whl (15.5 MB)\n",
      "Installing collected packages: numpy\n",
      "  Attempting uninstall: numpy\n",
      "    Found existing installation: numpy 2.1.0\n",
      "    Uninstalling numpy-2.1.0:\n",
      "      Successfully uninstalled numpy-2.1.0\n",
      "Successfully installed numpy-1.26.4\n"
     ]
    }
   ],
   "source": [
    "!pip install numpy==2.1.0\n",
    "!pip install pandas==2.2.3\n",
    "!pip install scikit-learn==1.6.0\n",
    "!pip install matplotlib==3.9.3"
   ]
  },
  {
   "cell_type": "code",
   "execution_count": 6,
   "id": "e7fd8db0-699a-491b-8060-ab6bc68971b8",
   "metadata": {},
   "outputs": [
    {
     "name": "stdout",
     "output_type": "stream",
     "text": [
      "Numpy Version 1.26.4\n",
      "Pandas Version: 2.2.2\n"
     ]
    }
   ],
   "source": [
    "import numpy as np\n",
    "import pandas as pd\n",
    "import matplotlib.pyplot as plt\n",
    "print(\"Numpy Version\",np.__version__)\n",
    "print(\"Pandas Version:\",pd.__version__)"
   ]
  },
  {
   "cell_type": "code",
   "execution_count": 11,
   "id": "667ec9fb-eb55-482f-b9fe-4919f9ccd681",
   "metadata": {},
   "outputs": [
    {
     "data": {
      "text/html": [
       "<div>\n",
       "<style scoped>\n",
       "    .dataframe tbody tr th:only-of-type {\n",
       "        vertical-align: middle;\n",
       "    }\n",
       "\n",
       "    .dataframe tbody tr th {\n",
       "        vertical-align: top;\n",
       "    }\n",
       "\n",
       "    .dataframe thead th {\n",
       "        text-align: right;\n",
       "    }\n",
       "</style>\n",
       "<table border=\"1\" class=\"dataframe\">\n",
       "  <thead>\n",
       "    <tr style=\"text-align: right;\">\n",
       "      <th></th>\n",
       "      <th>Temperature</th>\n",
       "      <th>Revenue</th>\n",
       "    </tr>\n",
       "  </thead>\n",
       "  <tbody>\n",
       "    <tr>\n",
       "      <th>0</th>\n",
       "      <td>24.6</td>\n",
       "      <td>535</td>\n",
       "    </tr>\n",
       "    <tr>\n",
       "      <th>1</th>\n",
       "      <td>26.1</td>\n",
       "      <td>626</td>\n",
       "    </tr>\n",
       "    <tr>\n",
       "      <th>2</th>\n",
       "      <td>27.8</td>\n",
       "      <td>661</td>\n",
       "    </tr>\n",
       "    <tr>\n",
       "      <th>3</th>\n",
       "      <td>20.6</td>\n",
       "      <td>488</td>\n",
       "    </tr>\n",
       "    <tr>\n",
       "      <th>4</th>\n",
       "      <td>11.6</td>\n",
       "      <td>317</td>\n",
       "    </tr>\n",
       "  </tbody>\n",
       "</table>\n",
       "</div>"
      ],
      "text/plain": [
       "   Temperature  Revenue\n",
       "0         24.6      535\n",
       "1         26.1      626\n",
       "2         27.8      661\n",
       "3         20.6      488\n",
       "4         11.6      317"
      ]
     },
     "execution_count": 11,
     "metadata": {},
     "output_type": "execute_result"
    }
   ],
   "source": [
    "df = pd.read_csv(\"Ice Cream.csv\")\n",
    "df.head()"
   ]
  },
  {
   "cell_type": "code",
   "execution_count": 13,
   "id": "b1e4a0f8-363d-4635-968f-320f7c0b537b",
   "metadata": {},
   "outputs": [
    {
     "data": {
      "text/plain": [
       "Temperature    float64\n",
       "Revenue          int64\n",
       "dtype: object"
      ]
     },
     "execution_count": 13,
     "metadata": {},
     "output_type": "execute_result"
    }
   ],
   "source": [
    "df.dtypes"
   ]
  },
  {
   "cell_type": "code",
   "execution_count": 12,
   "id": "5a2920e9-913f-4a2d-8631-b061e5209b53",
   "metadata": {},
   "outputs": [
    {
     "data": {
      "text/html": [
       "<div>\n",
       "<style scoped>\n",
       "    .dataframe tbody tr th:only-of-type {\n",
       "        vertical-align: middle;\n",
       "    }\n",
       "\n",
       "    .dataframe tbody tr th {\n",
       "        vertical-align: top;\n",
       "    }\n",
       "\n",
       "    .dataframe thead th {\n",
       "        text-align: right;\n",
       "    }\n",
       "</style>\n",
       "<table border=\"1\" class=\"dataframe\">\n",
       "  <thead>\n",
       "    <tr style=\"text-align: right;\">\n",
       "      <th></th>\n",
       "      <th>Temperature</th>\n",
       "      <th>Revenue</th>\n",
       "    </tr>\n",
       "  </thead>\n",
       "  <tbody>\n",
       "    <tr>\n",
       "      <th>count</th>\n",
       "      <td>500.000000</td>\n",
       "      <td>500.000000</td>\n",
       "    </tr>\n",
       "    <tr>\n",
       "      <th>mean</th>\n",
       "      <td>22.281600</td>\n",
       "      <td>522.058000</td>\n",
       "    </tr>\n",
       "    <tr>\n",
       "      <th>std</th>\n",
       "      <td>8.097597</td>\n",
       "      <td>175.410399</td>\n",
       "    </tr>\n",
       "    <tr>\n",
       "      <th>min</th>\n",
       "      <td>0.000000</td>\n",
       "      <td>10.000000</td>\n",
       "    </tr>\n",
       "    <tr>\n",
       "      <th>25%</th>\n",
       "      <td>17.175000</td>\n",
       "      <td>406.000000</td>\n",
       "    </tr>\n",
       "    <tr>\n",
       "      <th>50%</th>\n",
       "      <td>22.400000</td>\n",
       "      <td>530.000000</td>\n",
       "    </tr>\n",
       "    <tr>\n",
       "      <th>75%</th>\n",
       "      <td>27.800000</td>\n",
       "      <td>643.000000</td>\n",
       "    </tr>\n",
       "    <tr>\n",
       "      <th>max</th>\n",
       "      <td>45.000000</td>\n",
       "      <td>1000.000000</td>\n",
       "    </tr>\n",
       "  </tbody>\n",
       "</table>\n",
       "</div>"
      ],
      "text/plain": [
       "       Temperature      Revenue\n",
       "count   500.000000   500.000000\n",
       "mean     22.281600   522.058000\n",
       "std       8.097597   175.410399\n",
       "min       0.000000    10.000000\n",
       "25%      17.175000   406.000000\n",
       "50%      22.400000   530.000000\n",
       "75%      27.800000   643.000000\n",
       "max      45.000000  1000.000000"
      ]
     },
     "execution_count": 12,
     "metadata": {},
     "output_type": "execute_result"
    }
   ],
   "source": [
    "df.describe()"
   ]
  },
  {
   "cell_type": "code",
   "execution_count": 14,
   "id": "96590625-73e4-4c80-9322-6c76ebe324c6",
   "metadata": {},
   "outputs": [
    {
     "data": {
      "image/png": "[encoded data removed]",
      "text/plain": [
       "<Figure size 640x480 with 2 Axes>"
      ]
     },
     "metadata": {},
     "output_type": "display_data"
    }
   ],
   "source": [
    "viz = df[[\"Temperature\",\"Revenue\"]]\n",
    "viz.hist()\n",
    "plt.show()"
   ]
  },
  {
   "cell_type": "code",
   "execution_count": 20,
   "id": "51513bf6-834e-4318-9257-46953a0070b9",
   "metadata": {},
   "outputs": [
    {
     "data": {
      "image/png": "[encoded data removed]",
      "text/plain": [
       "<Figure size 640x480 with 1 Axes>"
      ]
     },
     "metadata": {},
     "output_type": "display_data"
    }
   ],
   "source": [
    "X = df[\"Revenue\"]\n",
    "y = df[\"Temperature\"]\n",
    "plt.scatter(X,y, color=\"blue\")\n",
    "plt.title(\"Revenue vs Temperature\")\n",
    "plt.xlabel(\"Revenue\")\n",
    "plt.ylabel(\"Temperature (Celsius)\")\n",
    "plt.show()"
   ]
  },
  {
   "cell_type": "code",
   "execution_count": 21,
   "id": "e9c0bcd6-c29b-47bb-8326-6b6b8076ab40",
   "metadata": {},
   "outputs": [
    {
     "name": "stdout",
     "output_type": "stream",
     "text": [
      "0      535\n",
      "1      626\n",
      "2      661\n",
      "3      488\n",
      "4      317\n",
      "      ... \n",
      "495    525\n",
      "496    756\n",
      "497    307\n",
      "498    567\n",
      "499    656\n",
      "Name: Revenue, Length: 500, dtype: int64 [ 535  626  661  488  317  368  309  697   56  738  326   72  468  290\n",
      "  906  470  649  922  650  535  613  354  525  375  524  474  403  680\n",
      "  518  810  529  357  238  419  810  871  551  406  741  502  540  243\n",
      "  422  359  468  397  501  652  452  698  191  622  667  629  220  624\n",
      "  750  828  304  352  382  322  775  132  499  196  497  285  484  431\n",
      "  277  628  644  624  587  654  919  592  652  683  373  382  516  686\n",
      "  655  407  644  345  643  362  705  223  544  222  338  213  475  461\n",
      "  344  284  469  712  323  402  628  416  554  363  644  652  604  428\n",
      "  566  734  386  690  573  720  307  597  541  342  656  703  320  451\n",
      "  383  675  732  752  497  418  449  478  159  517  600  657  508  280\n",
      "  842  484  740  487  457  242  619  447  604  275  532  298  320  494\n",
      "  587  498  477  626  391  676  274  281  584  649  727  336  571  686\n",
      "  776  774  541  367  540  810  377  478  521  655  519  783  251  635\n",
      "  489  521  653  384  797  294  415  692  340  472  500  543  402  681\n",
      "  259  716  609  575  616  534  579  279  187  396  538  229  604  273\n",
      "  494  613  438  507  410  563  403  533  414  333  564  473  597  597\n",
      "  269  529  628  619  851  119  279  450  449  464  475  825  554  697\n",
      "  676  696  289  507  619  368  192  335  584  539  395  474  428  748\n",
      "  213  692  633  449  522  438  707  406  504  571  707  544  642  275\n",
      "  421  146  829  595  604  652  608  626  536  531  536  782  798  522\n",
      "  608  535  600  663  513  575  551  555  497  351  410  632  662  643\n",
      "  322  413  539  858  426  199  171  600  559  551  715  527  760  442\n",
      "  757  543  455  336  576  595  622  521  588  538  640  468  375  605\n",
      "  464  551  316  224  564  490  459  966  690  679  380  509  685  599\n",
      "  417  572  772  236  580  407  537  250  703  336  808  565  857  483\n",
      "  437  217  296  595  936  649  597  499  476  385  634  660  610  200\n",
      "  556  595  573  479  564  546  445   33  507  492  560  698  799  279\n",
      "  595  876  514  441  411  257  584  279  852  323  222  820  645  284\n",
      "  277  403  301  691  193  547  666  751  570  917   10  573  659  243\n",
      "  442  703  644  819  494  444  324  970  659  478  426  650  680  506\n",
      "  474  406  429  801  446  451  618  542  655  522  604  589  635  247\n",
      "  641  382  391  655  413  265  685  460  616  699 1000  450  323  494\n",
      "  630  453  684  538  609  747  757  492  893  647  805  527  892  637\n",
      "  298  258  392  495  927  613  899  490  292  430  501  476  531  454\n",
      "  297  683  582  433  508  692  449  613  189  502  334  794  380  582\n",
      "  585  810  553  378  572  525  756  307  567  656]\n"
     ]
    }
   ],
   "source": [
    "X_1 = X.to_numpy()\n",
    "y_1 = y.to_numpy()\n",
    "print(X,X_1)"
   ]
  },
  {
   "cell_type": "code",
   "execution_count": null,
   "id": "d907c84e-d007-44c9-9b30-2f166802d1da",
   "metadata": {},
   "outputs": [],
   "source": []
  }
 ],
 "metadata": {
  "kernelspec": {
   "display_name": "Python 3 (ipykernel)",
   "language": "python",
   "name": "python3"
  },
  "language_info": {
   "codemirror_mode": {
    "name": "ipython",
    "version": 3
   },
   "file_extension": ".py",
   "mimetype": "text/x-python",
   "name": "python",
   "nbconvert_exporter": "python",
   "pygments_lexer": "ipython3",
   "version": "3.12.7"
  }
 },
 "nbformat": 4,
 "nbformat_minor": 5
}
